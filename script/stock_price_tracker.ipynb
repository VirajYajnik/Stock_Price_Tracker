{
 "cells": [
  {
   "cell_type": "markdown",
   "id": "210d8147-bb59-4c7d-a8ad-3e5c71f13cbe",
   "metadata": {},
   "source": [
    "# Step 1: Install Necessary Libraries\n",
    "Before running the code, ensure that all required libraries are installed. Use the commands below to install the dependencies.\n"
   ]
  },
  {
   "cell_type": "code",
   "execution_count": null,
   "id": "26d4d6b0-9bca-48e0-bd99-92f2609de065",
   "metadata": {},
   "outputs": [],
   "source": [
    "!pip install yahoo_fin\n",
    "!pip install pandas numpy\n"
   ]
  },
  {
   "cell_type": "markdown",
   "id": "2d9b0c78-e3df-4a44-9d98-6e2b2e754a74",
   "metadata": {},
   "source": [
    "# Step 2: Import Required Libraries\n",
    "Import the libraries necessary for fetching stock prices, suppressing warnings, and managing time-based operations.\n"
   ]
  },
  {
   "cell_type": "code",
   "execution_count": null,
   "id": "e8f22517-09ea-4c7b-aa63-243fe4aed04b",
   "metadata": {},
   "outputs": [],
   "source": [
    "from yahoo_fin import stock_info as si\n",
    "import time\n",
    "import warnings\n",
    "\n",
    "# Suppress warnings for cleaner output\n",
    "warnings.filterwarnings(\"ignore\", category=FutureWarning)\n"
   ]
  },
  {
   "cell_type": "markdown",
   "id": "94afb2ce-4f46-41e5-9b2b-753225c817cf",
   "metadata": {},
   "source": [
    "# Step 3: Define Function to Fetch Live Stock Prices\n",
    "The `get_stock_price` function retrieves the current price of a stock ticker using the `yahoo_fin` library.\n"
   ]
  },
  {
   "cell_type": "code",
   "execution_count": null,
   "id": "815435a5-6b00-4ce4-9077-86e2b858db1f",
   "metadata": {},
   "outputs": [],
   "source": [
    "def get_stock_price(ticker):\n",
    "    \"\"\"\n",
    "    Fetch the current price of the specified stock.\n",
    "\n",
    "    Parameters:\n",
    "        ticker (str): Stock ticker symbol.\n",
    "\n",
    "    Returns:\n",
    "        float: Current stock price or None if there's an error.\n",
    "    \"\"\"\n",
    "    try:\n",
    "        price = si.get_live_price(ticker)\n",
    "        return price\n",
    "    except Exception as e:\n",
    "        print(f\"Error fetching stock price for {ticker}: {e}\")\n",
    "        return None\n"
   ]
  },
  {
   "cell_type": "markdown",
   "id": "0fe96d58-711e-4e39-8e67-d93440a47caf",
   "metadata": {},
   "source": [
    "# Step 4: Define Function to Monitor Stock Prices\n",
    "The `track_stock_price` function checks the live price of a stock and prints whether the price meets the target specified by the user.\n"
   ]
  },
  {
   "cell_type": "code",
   "execution_count": null,
   "id": "e54f6f2f-98aa-49ef-98da-b41fef6beef5",
   "metadata": {},
   "outputs": [],
   "source": [
    "def track_stock_price(ticker, target_price):\n",
    "    \"\"\"\n",
    "    Monitor stock prices and print a notification when the price meets the target.\n",
    "\n",
    "    Parameters:\n",
    "        ticker (str): Stock ticker symbol.\n",
    "        target_price (float): Desired stock price for notification.\n",
    "    \"\"\"\n",
    "    current_price = get_stock_price(ticker)\n",
    "    if current_price is not None:\n",
    "        print(f\"The current price of {ticker} is ${current_price:.2f}\")\n",
    "        if current_price <= target_price:\n",
    "            print(f\"Target met! {ticker} has reached ${current_price:.2f}.\")\n",
    "        else:\n",
    "            print(f\"{ticker} is still above the target price of ${target_price:.2f}.\")\n",
    "    else:\n",
    "        print(f\"Failed to retrieve price for {ticker}. Verify the ticker symbol.\")\n"
   ]
  },
  {
   "cell_type": "markdown",
   "id": "e4228404-67a7-4ee6-94f7-e6ded4da2338",
   "metadata": {},
   "source": [
    "# Step 6: Collect User Inputs\n",
    "Ask the user for the stock ticker symbol and their target price. These inputs will be used for monitoring stock prices.\n"
   ]
  },
  {
   "cell_type": "code",
   "execution_count": null,
   "id": "dd76c6fc-7466-43eb-a982-786d36620e26",
   "metadata": {},
   "outputs": [],
   "source": [
    "# Interactive input for stock monitoring\n",
    "ticker_symbol = input(\"Enter the stock ticker symbol (e.g., AAPL, TSLA): \").strip().upper()\n",
    "target_price = float(input(f\"Enter your target price for {ticker_symbol}: \"))\n"
   ]
  },
  {
   "cell_type": "markdown",
   "id": "a9fae29f-6b3f-421f-9cf2-c87eff4617dd",
   "metadata": {},
   "source": [
    "# Step 7: Start Monitoring Stock Prices\n",
    "Continuously monitor the stock price every hour. The script will notify the user if the stock price meets or falls below the target price.\n"
   ]
  },
  {
   "cell_type": "code",
   "execution_count": null,
   "id": "a971ae86-005a-47d3-9f94-13c4256e34ae",
   "metadata": {},
   "outputs": [],
   "source": [
    "# Monitor the stock price every hour\n",
    "print(\"\\nStarting stock price monitoring. The price will be checked every hour.\")\n",
    "print(\"Press Stop or Interrupt in Jupyter to exit.\")\n",
    "\n",
    "while True:\n",
    "    track_stock_price(ticker_symbol, target_price)\n",
    "    time.sleep(3600)  # Wait for one hour between checks\n"
   ]
  }
 ],
 "metadata": {
  "kernelspec": {
   "display_name": "Python 3 (ipykernel)",
   "language": "python",
   "name": "python3"
  },
  "language_info": {
   "codemirror_mode": {
    "name": "ipython",
    "version": 3
   },
   "file_extension": ".py",
   "mimetype": "text/x-python",
   "name": "python",
   "nbconvert_exporter": "python",
   "pygments_lexer": "ipython3",
   "version": "3.12.7"
  }
 },
 "nbformat": 4,
 "nbformat_minor": 5
}
